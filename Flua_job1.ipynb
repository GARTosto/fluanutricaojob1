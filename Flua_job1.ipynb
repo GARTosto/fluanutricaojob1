{
 "cells": [
  {
   "cell_type": "markdown",
   "metadata": {},
   "source": [
    "# FLUA NUTRIÇÃO"
   ]
  },
  {
   "cell_type": "markdown",
   "metadata": {},
   "source": [
    "## Job 1: Análise de efetividade de contatos pós-falta\n",
    "\n",
    "#### Resumo\n",
    "O objetivo desse notebook é analisar a efetividade dos contatos realizados por chat e por e-mail aos pacientes que faltaram à consulta. A comparação é feita usando dois grupos de pacientes: o grupo intervenção (GI) recebeu um contato da nutricionista incentivando-o a agendar e comparecer a outra consulta; o grupo controle (GC) não recebeu esse contato. A hipótese é que o grupo intervenção, após receber o contato, apresentou maiores taxas de novos agendamentos e realização de consultas do que o grupo controle, dentro do mesmo período de tempo analisado."
   ]
  },
  {
   "cell_type": "markdown",
   "metadata": {},
   "source": []
  },
  {
   "cell_type": "markdown",
   "metadata": {},
   "source": [
    "### Preparando o notebook\n"
   ]
  },
  {
   "cell_type": "code",
   "execution_count": 2,
   "metadata": {},
   "outputs": [],
   "source": [
    "import pandas as pd\n",
    "import numpy as np"
   ]
  },
  {
   "cell_type": "code",
   "execution_count": 3,
   "metadata": {},
   "outputs": [],
   "source": [
    "# carregando o banco de dados de um arquivo Excel, camada Bronze 0 que indica que é o banco original\n",
    "df_b0 = pd.read_excel('Flua_job1_datasetv1.xlsx', sheet_name='Banco compilado')"
   ]
  },
  {
   "cell_type": "markdown",
   "metadata": {},
   "source": [
    "### Parte 1 - Limpeza dos dados"
   ]
  },
  {
   "cell_type": "code",
   "execution_count": 4,
   "metadata": {},
   "outputs": [
    {
     "data": {
      "text/plain": [
       "Index(['Data ', 'Mês', 'Ano', 'Nutri ', 'ID caso', 'Pessoa ',\n",
       "       'Consulta (1,2,3,4,5,6)', 'Objetivo da pessoa',\n",
       "       'Atendimento em outra língua? \\n(português/ libras/ inglês)',\n",
       "       'Status atendimento \\n(Realizado, Falta, Reagendou)',\n",
       "       'Engajamento\\n(chat / e-mail ) ',\n",
       "       'Mensagem Enviada\\n(padrão ou pesonalizada com ou sem material )',\n",
       "       'Engajamento deu certo? \\n(Agendou/ Realizou/ Não voltou)',\n",
       "       'Encerramento de caso', 'OBS'],\n",
       "      dtype='object')"
      ]
     },
     "execution_count": 4,
     "metadata": {},
     "output_type": "execute_result"
    }
   ],
   "source": [
    "#checando os nomes das colunas originais\n",
    "df_b0.columns"
   ]
  },
  {
   "cell_type": "code",
   "execution_count": 5,
   "metadata": {},
   "outputs": [
    {
     "data": {
      "text/plain": [
       "Index(['DATA', 'MES', 'ANO', 'NUTRICIONISTA', 'ID_CASO', 'PACIENTE_NOME',\n",
       "       'CONSULTA_ESTAGIO', 'OBJETIVO_PACIENTE', 'IDIOMA', 'STATUS_ATENDIMENTO',\n",
       "       'ENGAJAMENTO_STATUS', 'MENSAGEM_ENVIADA', 'ENGAJAMENTO_DESFECHO',\n",
       "       'ENCERRAMENTO_CASO', 'OBSERVACOES'],\n",
       "      dtype='object')"
      ]
     },
     "execution_count": 5,
     "metadata": {},
     "output_type": "execute_result"
    }
   ],
   "source": [
    "#criando um novo dataframe para trabalhar, camada Bronze 1, que é o mesmo banco de dados, apenas com as variáveis renomeadas\n",
    "df_b1 = df_b0.rename(columns={'Data ': 'DATA',\n",
    "                               'Mês': 'MES',\n",
    "                               'Ano': 'ANO',\n",
    "                               'Nutri ': 'NUTRICIONISTA',\n",
    "                               'ID caso': 'ID_CASO',\n",
    "                               'Pessoa ': 'PACIENTE_NOME',\n",
    "                               'Consulta (1,2,3,4,5,6)': 'CONSULTA_ESTAGIO',\n",
    "                               'Objetivo da pessoa': 'OBJETIVO_PACIENTE',\n",
    "                               'Atendimento em outra língua? \\n(português/ libras/ inglês)': 'IDIOMA',\n",
    "                               'Status atendimento \\n(Realizado, Falta, Reagendou)': 'STATUS_ATENDIMENTO',\n",
    "                               'Engajamento\\n(chat / e-mail ) ': 'ENGAJAMENTO_STATUS',\n",
    "                               'Mensagem Enviada\\n(padrão ou pesonalizada com ou sem material )': 'MENSAGEM_ENVIADA',\n",
    "                               'Engajamento deu certo? \\n(Agendou/ Realizou/ Não voltou)': 'ENGAJAMENTO_DESFECHO',\n",
    "                               'Encerramento de caso': 'ENCERRAMENTO_CASO',\n",
    "                               'OBS': 'OBSERVACOES'})\n",
    "df_b1.columns\n",
    "                               \n",
    "                                \n",
    "                              "
   ]
  },
  {
   "cell_type": "code",
   "execution_count": 6,
   "metadata": {},
   "outputs": [
    {
     "name": "stdout",
     "output_type": "stream",
     "text": [
      "<class 'pandas.core.frame.DataFrame'>\n",
      "RangeIndex: 2071 entries, 0 to 2070\n",
      "Data columns (total 15 columns):\n",
      " #   Column                Non-Null Count  Dtype         \n",
      "---  ------                --------------  -----         \n",
      " 0   DATA                  2071 non-null   datetime64[ns]\n",
      " 1   MES                   2071 non-null   int64         \n",
      " 2   ANO                   2071 non-null   int64         \n",
      " 3   NUTRICIONISTA         2071 non-null   object        \n",
      " 4   ID_CASO               1745 non-null   object        \n",
      " 5   PACIENTE_NOME         2071 non-null   object        \n",
      " 6   CONSULTA_ESTAGIO      2071 non-null   int64         \n",
      " 7   OBJETIVO_PACIENTE     1299 non-null   object        \n",
      " 8   IDIOMA                1451 non-null   object        \n",
      " 9   STATUS_ATENDIMENTO    2071 non-null   object        \n",
      " 10  ENGAJAMENTO_STATUS    263 non-null    object        \n",
      " 11  MENSAGEM_ENVIADA      240 non-null    object        \n",
      " 12  ENGAJAMENTO_DESFECHO  233 non-null    object        \n",
      " 13  ENCERRAMENTO_CASO     476 non-null    object        \n",
      " 14  OBSERVACOES           103 non-null    object        \n",
      "dtypes: datetime64[ns](1), int64(3), object(11)\n",
      "memory usage: 242.8+ KB\n"
     ]
    }
   ],
   "source": [
    "# vendo informações do banco de dados\n",
    "df_b1.info()"
   ]
  },
  {
   "cell_type": "code",
   "execution_count": 7,
   "metadata": {},
   "outputs": [
    {
     "data": {
      "text/plain": [
       "DATA                     217\n",
       "MES                       13\n",
       "ANO                        4\n",
       "NUTRICIONISTA              7\n",
       "ID_CASO                 1080\n",
       "PACIENTE_NOME           1324\n",
       "CONSULTA_ESTAGIO           6\n",
       "OBJETIVO_PACIENTE         30\n",
       "IDIOMA                     4\n",
       "STATUS_ATENDIMENTO         5\n",
       "ENGAJAMENTO_STATUS        10\n",
       "MENSAGEM_ENVIADA          19\n",
       "ENGAJAMENTO_DESFECHO       6\n",
       "ENCERRAMENTO_CASO         18\n",
       "OBSERVACOES               55\n",
       "dtype: int64"
      ]
     },
     "execution_count": 7,
     "metadata": {},
     "output_type": "execute_result"
    }
   ],
   "source": [
    "# checando os valores únicos de cada coluna\n",
    "df_b1.nunique()"
   ]
  },
  {
   "cell_type": "code",
   "execution_count": 8,
   "metadata": {},
   "outputs": [
    {
     "data": {
      "text/plain": [
       "DATA                       0\n",
       "MES                        0\n",
       "ANO                        0\n",
       "NUTRICIONISTA              0\n",
       "ID_CASO                  326\n",
       "PACIENTE_NOME              0\n",
       "CONSULTA_ESTAGIO           0\n",
       "OBJETIVO_PACIENTE        772\n",
       "IDIOMA                   620\n",
       "STATUS_ATENDIMENTO         0\n",
       "ENGAJAMENTO_STATUS      1808\n",
       "MENSAGEM_ENVIADA        1831\n",
       "ENGAJAMENTO_DESFECHO    1838\n",
       "ENCERRAMENTO_CASO       1595\n",
       "OBSERVACOES             1968\n",
       "dtype: int64"
      ]
     },
     "execution_count": 8,
     "metadata": {},
     "output_type": "execute_result"
    }
   ],
   "source": [
    "#checando dados faltantes\n",
    "df_b1.isnull().sum()"
   ]
  },
  {
   "cell_type": "code",
   "execution_count": 9,
   "metadata": {},
   "outputs": [],
   "source": [
    "#tratando a variável DATA\n",
    "df_b1['DATA'] = pd.to_datetime(df_b1['DATA'], errors='coerce')\n",
    "\n",
    "# refazer as variáveis de mês e ano\n",
    "df_b1['MES'] = df_b1['DATA'].dt.month   # extrai o mês da data\n",
    "df_b1['ANO'] = df_b1['DATA'].dt.year     # extrai o ano da\n"
   ]
  },
  {
   "cell_type": "code",
   "execution_count": 10,
   "metadata": {},
   "outputs": [],
   "source": [
    "# tratatando a variável ID_CASO\n",
    "\n",
    "# trasnformando a variável ID_CASO em string\n",
    "df_b1['ID_CASO'] = df_b1['ID_CASO'].astype(str)\n",
    "\n",
    "# transformando os valores vazios em NaN\n",
    "df_b1['ID_CASO'] = df_b1['ID_CASO'].replace('', np.nan)\n",
    "\n",
    "# transformando os valores que contem \"/\" em NaN\n",
    "df_b1['ID_CASO'] = df_b1['ID_CASO'].replace('3098-03-10 00:00:00', np.nan)\n",
    "\n",
    "# transformando a variável ID_CASO em inteiro e transformando os valores NaN em missing\n",
    "df_b1['ID_CASO'] = pd.to_numeric(df_b1['ID_CASO'], errors='coerce')\n",
    "\n",
    "# retirando os decimais dos valores da variável ID_CASO\n",
    "df_b1['ID_CASO'] = df_b1['ID_CASO'].astype('Int64')"
   ]
  },
  {
   "cell_type": "code",
   "execution_count": 11,
   "metadata": {},
   "outputs": [
    {
     "data": {
      "text/plain": [
       "CONSULTA_ESTAGIO\n",
       "1    0.641719\n",
       "2    0.230324\n",
       "3    0.079189\n",
       "4    0.028006\n",
       "5     0.01352\n",
       "6    0.007243\n",
       "Name: proportion, dtype: Float64"
      ]
     },
     "execution_count": 11,
     "metadata": {},
     "output_type": "execute_result"
    }
   ],
   "source": [
    "# tratando a variável CONSULTA_ESTAGIO\n",
    "\n",
    "# transformando os valores em inteiros\n",
    "df_b1['CONSULTA_ESTAGIO'] = pd.to_numeric(df_b1['CONSULTA_ESTAGIO'], errors='coerce')\n",
    "\n",
    "#retirando os decimais dos valores da variável CONSULTA_ESTAGIO\n",
    "df_b1['CONSULTA_ESTAGIO'] = df_b1['CONSULTA_ESTAGIO'].astype('Int64')\n",
    "\n",
    "# contar os valores da variável CONSULTA_ESTAGIO\n",
    "df_b1['CONSULTA_ESTAGIO'].value_counts()\n",
    "\n",
    "#calcular o percentual de valores\n",
    "df_b1['CONSULTA_ESTAGIO'].value_counts(normalize=True, dropna=False)\n"
   ]
  },
  {
   "cell_type": "code",
   "execution_count": 33,
   "metadata": {},
   "outputs": [
    {
     "data": {
      "text/plain": [
       "OBJETIVO_PACIENTE_RC\n",
       "NaN                               0.372767\n",
       "Emagrecimento                     0.335587\n",
       "Qualidade de Vida                 0.093675\n",
       "Nutricao Esportiva                0.069049\n",
       "Outros                            0.029937\n",
       "Comer Emocional                   0.015451\n",
       "Transtorno Alimentar              0.012554\n",
       "Nao informado                     0.011106\n",
       "Saude Gastrica e Intestinal       0.010140\n",
       "Nutricao na Gestacao              0.009657\n",
       "Cirurgia Bariatrica               0.009174\n",
       "Nutricao Infantil                 0.008691\n",
       "Saude da Mulher                   0.007726\n",
       "Alergias Alimentares              0.007243\n",
       "Vegetarianismo                    0.006277\n",
       "Sindrome do Ovario Policistico    0.000966\n",
       "Name: proportion, dtype: float64"
      ]
     },
     "execution_count": 33,
     "metadata": {},
     "output_type": "execute_result"
    }
   ],
   "source": [
    "# tratando a variável OBJETIVO_PACIENTE\n",
    "\n",
    "# checando valores únicos\n",
    "df_b1['OBJETIVO_PACIENTE'].unique()\n",
    "\n",
    "# reorganizando os valores da variável OBJETIVO_PACIENTE em outra coluna chamada OBJETIVO_PACIENTE_RC\n",
    "df_b1['OBJETIVO_PACIENTE_RC'] = df_b1['OBJETIVO_PACIENTE'].replace({'Perda de Peso': 'Emagrecimento',\n",
    "                                                                    'Perda de peso ': 'Emagrecimento',\n",
    "                                                                    'Perda de peso': 'Emagrecimento',\n",
    "                                                                    'Emagrecimento ': 'Emagrecimento',\n",
    "                                                                    'QV': 'Qualidade de Vida',\n",
    "                                                                    'Reeducação alimentar': 'Qualidade de Vida',\n",
    "                                                                    'Bariátrica': 'Cirurgia Bariatrica',\n",
    "                                                                    'Perda de Peso/Bariátrica': 'Cirurgia Bariatrica',\n",
    "                                                                    'Perda de peso/Bariátrica': 'Cirurgia Bariatrica',\n",
    "                                                                    'Saúde da mulher ': 'Saude da Mulher',\n",
    "                                                                    'TA': 'Transtorno Alimentar',\n",
    "                                                                    'Saúde gástrica e intestinal': 'Saude Gastrica e Intestinal',\n",
    "                                                                    'intestinal ': 'Saude Gastrica e Intestinal',\n",
    "                                                                    'Intestinal ': 'Saude Gastrica e Intestinal',\n",
    "                                                                    'Instestinal': 'Saude Gastrica e Intestinal',\n",
    "                                                                    'Alergias alimentares ': 'Alergias Alimentares',\n",
    "                                                                    'Comer emocional': 'Comer Emocional',\n",
    "                                                                    'Comer emocional ': 'Comer Emocional',\n",
    "                                                                    'Comportamental': 'Comer Emocional',\n",
    "                                                                    'vegetarianismo': 'Vegetarianismo',\n",
    "                                                                    'Vegetarianismo': 'Vegetarianismo',\n",
    "                                                                    'Vegetariano': 'Vegetarianismo',\n",
    "                                                                    'sem dado': 'Nao informado',\n",
    "                                                                    'Esportivo': 'Nutricao Esportiva',\n",
    "                                                                    'Infantil': 'Nutricao Infantil', \n",
    "                                                                    'Gestação': 'Nutricao na Gestacao',\n",
    "                                                                    'Gestante': 'Nutricao na Gestacao',\n",
    "                                                                    'Perda de peso/SOP': 'Sindrome do Ovario Policistico',\n",
    "                                                                    'SOP': 'Sindrome do Ovario Policistico'})          \n",
    "\n",
    "\n",
    "# contando valores únicos\n",
    "df_b1['OBJETIVO_PACIENTE_RC'].value_counts(normalize=True, dropna=False)                                        "
   ]
  },
  {
   "cell_type": "code",
   "execution_count": 69,
   "metadata": {},
   "outputs": [
    {
     "data": {
      "text/plain": [
       "IDIOMA_RC\n",
       "Portugues    0.700628\n",
       "None         0.299372\n",
       "Name: proportion, dtype: float64"
      ]
     },
     "execution_count": 69,
     "metadata": {},
     "output_type": "execute_result"
    }
   ],
   "source": [
    "# tratando a variável IDIOMA\n",
    "\n",
    "# reorganizando os valores da variável IDIOMA em outra coluna chamada IDIOMA_RC\n",
    "\n",
    "# criando as condições para a variável IDIOMA_RC\n",
    "conditions = [\n",
    "    df_b1['IDIOMA'].isin(['Português', 'Portugês', 'Português ', 'Portugues']),\n",
    "    df_b1['IDIOMA'] == 'Inglês',\n",
    "    df_b1['IDIOMA'] == 'Libras',\n",
    "    df_b1['IDIOMA'].isnull()\n",
    "]\n",
    "\n",
    "# valores correspondentes para cada condição\n",
    "values = ['Portugues', 'Ingles', 'Libras', None]\n",
    "\n",
    "# aplicando np.select para criar a nova variável IDIOMA_RC\n",
    "df_b1['IDIOMA_RC'] = np.select(conditions, values, default=np.nan)\n",
    "\n",
    "# contando os valores da nova variável IDIOMA_RC\n",
    "df_b1['IDIOMA_RC'].value_counts(normalize=True, dropna=False)"
   ]
  },
  {
   "cell_type": "code",
   "execution_count": 91,
   "metadata": {},
   "outputs": [
    {
     "data": {
      "text/plain": [
       "STATUS_ATENDIMENTO\n",
       "Realizado     1080\n",
       "Falta          963\n",
       "Reagendou       13\n",
       "Reagendou       13\n",
       "Desmarcou        2\n",
       "Name: count, dtype: int64"
      ]
     },
     "execution_count": 91,
     "metadata": {},
     "output_type": "execute_result"
    }
   ],
   "source": [
    "df_b1['STATUS_ATENDIMENTO'].value_counts()"
   ]
  },
  {
   "cell_type": "code",
   "execution_count": null,
   "metadata": {},
   "outputs": [
    {
     "data": {
      "text/plain": [
       "STATUS_ATENDIMENTO_RC\n",
       "Realizado    1080\n",
       "Falta         963\n",
       "Reagendou      26\n",
       "Desmarcou       2\n",
       "Name: count, dtype: int64"
      ]
     },
     "execution_count": 87,
     "metadata": {},
     "output_type": "execute_result"
    }
   ],
   "source": [
    "# tratando a variável STATUS_ATENDIMENTO\n",
    "\n",
    "# reorganizando os valores da variável STATUS_ATENDIMENTO em outra coluna chamada STATUS_ATENDIMENTO_RC usando np.select\n",
    "conditions = [\n",
    "    df_b1['STATUS_ATENDIMENTO'].isin(['Reagendou', 'Reagendou ']),\n",
    "    df_b1['STATUS_ATENDIMENTO'].isin(['Falta', 'Falta ']),\n",
    "    df_b1['STATUS_ATENDIMENTO'].isin(['Realizado', 'Realizado ']),\n",
    "    df_b1['STATUS_ATENDIMENTO'].isin(['Desmarcou', 'Desmarcou ']),\n",
    "    df_b1['STATUS_ATENDIMENTO'].isin(['', 'nan', 'NaN']),\n",
    "    df_b1['STATUS_ATENDIMENTO'].isnull()\n",
    "]\n",
    "\n",
    "# valores correspondentes para cada condição\n",
    "values = ['Reagendou', 'Falta', 'Realizado', 'Desmarcou', None, None]\n",
    "\n",
    "# aplicando np.select para criar a nova variável STATUS_ATENDIMENTO_RC\n",
    "df_b1['STATUS_ATENDIMENTO_RC'] = np.select(conditions, values, default=np.nan)\n",
    "\n",
    "# contando os valores da nova variável STATUS_ATENDIMENTO_RC\n",
    "df_b1['STATUS_ATENDIMENTO_RC'].value_counts(dropna=True)\n",
    "\n"
   ]
  },
  {
   "cell_type": "code",
   "execution_count": 66,
   "metadata": {},
   "outputs": [
    {
     "data": {
      "text/plain": [
       "ENGAJAMENTO_STATUS_RC\n",
       "Chat             234\n",
       "Nao realizado     15\n",
       "Email              9\n",
       "WhatsApp           1\n",
       "Name: count, dtype: int64"
      ]
     },
     "execution_count": 66,
     "metadata": {},
     "output_type": "execute_result"
    }
   ],
   "source": [
    "#tratando a variável ENGAJAMENTO_STATUS\n",
    "\n",
    "# criando as condições para a variável ENGAJAMENTO_STATUS_RC\n",
    "conditions_engajamento = [\n",
    "    df_b1['ENGAJAMENTO_STATUS'].isin(['WhatsApp']),\n",
    "    df_b1['ENGAJAMENTO_STATUS'].isin(['chat', 'chat ', 'Chat']),\n",
    "    df_b1['ENGAJAMENTO_STATUS'].isin(['NÃO REALIZADO']),\n",
    "    df_b1['ENGAJAMENTO_STATUS'].isin(['Email']),\n",
    "    df_b1['ENGAJAMENTO_STATUS'].isin(['letramos@br.ibm.com ', 'gabriellaferreirapaiva@gmail.com', \n",
    "                                      'brunoromulo@hotmail.com', 'lorrainegg4@gmail.com', 'NaN', np.nan])\n",
    "]\n",
    "\n",
    "# valores correspondentes para cada condição\n",
    "values_engajamento = ['WhatsApp', 'Chat', 'Nao realizado', 'Email', None]\n",
    "\n",
    "# aplicando np.select para criar a nova variável ENGAJAMENTO_STATUS_RC\n",
    "df_b1['ENGAJAMENTO_STATUS_RC'] = np.select(conditions_engajamento, values_engajamento, default=np.nan)\n",
    "\n",
    "df_b1['ENGAJAMENTO_STATUS_RC'].value_counts(dropna=True)"
   ]
  },
  {
   "cell_type": "code",
   "execution_count": 74,
   "metadata": {},
   "outputs": [
    {
     "data": {
      "text/plain": [
       "MENSAGEM_ENVIADA_RC\n",
       "Padrao com material           122\n",
       "Padrao                         80\n",
       "Personalizada                  16\n",
       "Personalizada com material      1\n",
       "Name: count, dtype: int64"
      ]
     },
     "execution_count": 74,
     "metadata": {},
     "output_type": "execute_result"
    }
   ],
   "source": [
    "# Tratando a variável MENSAGEM_ENVIADA\n",
    "\n",
    "# criando as condições para a variável MENSAGEM_ENVIADA_RC\n",
    "conditions_mensagem = [\n",
    "    df_b1['MENSAGEM_ENVIADA'].isin(['Personalizada s/ material ', 'Personalizada', \n",
    "                                    'Personalizada sem material', 'Personalizado sem material ', \n",
    "                                    'personalizado sem material']),\n",
    "    df_b1['MENSAGEM_ENVIADA'].isin(['padrão s/ material  ', 'Padrão']),\n",
    "    df_b1['MENSAGEM_ENVIADA'].isin(['padrão c/ material ', 'Padrão com material ', \n",
    "                                    'Padrão com material', 'padrao com material', \n",
    "                                    'personalizada com material', 'padrão com material ', \n",
    "                                    'padrão com material', 'padrão com material (C2): ', \n",
    "                                    'padrão com material (C2)']),\n",
    "    df_b1['MENSAGEM_ENVIADA'].isin(['Personalizada com material']),\n",
    "    df_b1['MENSAGEM_ENVIADA'].isin(['NaN', 'nan', np.nan]),\n",
    "    df_b1['MENSAGEM_ENVIADA'].isnull()\n",
    "]\n",
    "\n",
    "# valores correspondentes para cada condição\n",
    "values_mensagem = [\n",
    "    'Personalizada',\n",
    "    'Padrao',\n",
    "    'Padrao com material',\n",
    "    'Personalizada com material',\n",
    "    None,\n",
    "    None\n",
    "]\n",
    "\n",
    "# aplicando np.select para criar a nova variável MENSAGEM_ENVIADA_RC\n",
    "df_b1['MENSAGEM_ENVIADA_RC'] = np.select(conditions_mensagem, values_mensagem, default=np.nan)\n",
    "\n",
    "# verificando os valores únicos da nova variável\n",
    "#df_b1['MENSAGEM_ENVIADA_RC'].unique()\n",
    "                   \n",
    "df_b1['MENSAGEM_ENVIADA_RC'].value_counts(dropna=True)"
   ]
  },
  {
   "cell_type": "code",
   "execution_count": 93,
   "metadata": {},
   "outputs": [
    {
     "name": "stderr",
     "output_type": "stream",
     "text": [
      "C:\\Users\\thiag\\AppData\\Local\\Temp\\ipykernel_15388\\2784136694.py:2: FutureWarning: Downcasting behavior in `replace` is deprecated and will be removed in a future version. To retain the old behavior, explicitly call `result.infer_objects(copy=False)`. To opt-in to the future behavior, set `pd.set_option('future.no_silent_downcasting', True)`\n",
      "  df_b1['INTERVENCAO'] = df_b1['MENSAGEM_ENVIADA_RC'].replace({'Personalizada': 1,\n"
     ]
    },
    {
     "data": {
      "text/plain": [
       "INTERVENCAO\n",
       "0.0    1852\n",
       "1.0     219\n",
       "Name: count, dtype: int64"
      ]
     },
     "execution_count": 93,
     "metadata": {},
     "output_type": "execute_result"
    }
   ],
   "source": [
    "# Criando a variável INTERVENCAO a partir das variáveis MENSAGEM_ENVIADA_RC\n",
    "df_b1['INTERVENCAO'] = df_b1['MENSAGEM_ENVIADA_RC'].replace({'Personalizada': 1,\n",
    "                                                              'Padrao': 1,\n",
    "                                                              'Padrao com material': 1,\n",
    "                                                              'Personalizada com material': 1,\n",
    "                                                              None: 0,\n",
    "                                                              np.nan: 0})\n",
    "\n",
    "# contando os valores da nova variável INTERVENCAO\n",
    "df_b1['INTERVENCAO'].value_counts(dropna=False)"
   ]
  },
  {
   "cell_type": "code",
   "execution_count": 61,
   "metadata": {},
   "outputs": [
    {
     "data": {
      "text/plain": [
       "ENGAJAMENTO_DESFECHO_RC\n",
       "Nao voltou     155\n",
       "Realizou        40\n",
       "Agendou         17\n",
       "Nao agendou     16\n",
       "Name: count, dtype: int64"
      ]
     },
     "execution_count": 61,
     "metadata": {},
     "output_type": "execute_result"
    }
   ],
   "source": [
    "# tratando a variável ENGAJAMENTO_DESFECHO\n",
    "\n",
    "# criando as condições para a variável ENGAJAMENTO_DESFECHO_RC\n",
    "conditions_desfecho = [\n",
    "    df_b1['ENGAJAMENTO_DESFECHO'].isin(['Agendou', 'Agendou ', 'Agendou']),\n",
    "    df_b1['ENGAJAMENTO_DESFECHO'].isin(['Realizou', 'Realizou ', 'Realizou']),\n",
    "    df_b1['ENGAJAMENTO_DESFECHO'].isin(['Não voltou', 'Não voltou ', 'Não voltou']),\n",
    "    df_b1['ENGAJAMENTO_DESFECHO'].isin(['Não agendou', 'Não agendou ', 'Não agendou']),\n",
    "    df_b1['ENGAJAMENTO_DESFECHO'].isin(['nan', 'nan ', 'nan']),\n",
    "    df_b1['ENGAJAMENTO_DESFECHO'] == np.nan,\n",
    "    df_b1['ENGAJAMENTO_DESFECHO'] == 0\n",
    "]\n",
    "\n",
    "# valores correspondentes para cada condição\n",
    "values_desfecho = ['Agendou', 'Realizou', 'Nao voltou', 'Nao agendou', None, None, None]\n",
    "\n",
    "# aplicando np.select para criar a nova variável ENGAJAMENTO_DESFECHO_RC\n",
    "df_b1['ENGAJAMENTO_DESFECHO_RC'] = np.select(conditions_desfecho, values_desfecho, default=np.nan)\n",
    "\n",
    "# contando os valores da nova variável ENGAJAMENTO_DESFECHO_RC\n",
    "df_b1['ENGAJAMENTO_DESFECHO_RC'].value_counts()\n"
   ]
  },
  {
   "cell_type": "code",
   "execution_count": 98,
   "metadata": {},
   "outputs": [
    {
     "data": {
      "text/plain": [
       "ENCERRAMENTO_CASO_RC\n",
       "Caso encerrado            458\n",
       "Concluiu o programa         3\n",
       "Tentativa de reengajar      1\n",
       "Name: count, dtype: int64"
      ]
     },
     "execution_count": 98,
     "metadata": {},
     "output_type": "execute_result"
    }
   ],
   "source": [
    "# Tratando a variável ENCERRAMENTO_CASO\n",
    "\n",
    "# criando as condições para a variável ENCERRAMENTO_CASO_RC\n",
    "conditions_encerramento = [\n",
    "    df_b1['ENCERRAMENTO_CASO'].isin(['Encerrado', 'Encerrado ', 'Encerrado', 'encerrado ', 'encerrado', \n",
    "                                     'sim', 'Sim' 'Encerrou o caso',  'Caso encerrado', 'Encerrou', 'Encerrou ',\n",
    "                                     'Caso encerrado pela pessoa', 'Encerramento de caso', 'cancelou programa', \n",
    "                                     'Encerrou  no dia da consulta']),\n",
    "    df_b1['ENCERRAMENTO_CASO'].isin(['Concluiu o acompanhamento', 'Finalizou o acompanhamento']),\n",
    "    df_b1['ENCERRAMENTO_CASO'].isin(['Tentativa de reengajar']),\n",
    "    df_b1['ENCERRAMENTO_CASO'].isin(['nan', 'nan ', 'nan', '-']),\n",
    "    df_b1['ENCERRAMENTO_CASO'] == 0\n",
    "]\n",
    "\n",
    "# valores correspondentes para cada condição\n",
    "values_encerramento = ['Caso encerrado', 'Concluiu o programa', 'Tentativa de reengajar', None, None]\n",
    "\n",
    "# aplicando np.select para criar a nova variável ENCERRAMENTO_CASO_RC\n",
    "df_b1['ENCERRAMENTO_CASO_RC'] = np.select(conditions_encerramento, values_encerramento, default=np.nan)\n",
    "\n",
    "\n",
    "\n",
    "# contando os valores da nova variável ENCERRAMENTO_CASO_RC\n",
    "df_b1['ENCERRAMENTO_CASO_RC'].value_counts()"
   ]
  },
  {
   "cell_type": "code",
   "execution_count": 99,
   "metadata": {},
   "outputs": [
    {
     "name": "stderr",
     "output_type": "stream",
     "text": [
      "C:\\Users\\thiag\\AppData\\Local\\Temp\\ipykernel_15388\\106241752.py:22: FutureWarning: A value is trying to be set on a copy of a DataFrame or Series through chained assignment using an inplace method.\n",
      "The behavior will change in pandas 3.0. This inplace method will never work because the intermediate object on which we are setting values always behaves as a copy.\n",
      "\n",
      "For example, when doing 'df[col].method(value, inplace=True)', try using 'df.method({col: value}, inplace=True)' or df[col] = df[col].method(value) instead, to perform the operation inplace on the original object.\n",
      "\n",
      "\n",
      "  df_b1['OBSERVACOES_RC'].replace('nan', np.nan, inplace=True)\n"
     ]
    }
   ],
   "source": [
    "# tratando a variável OBSERVACOES\n",
    "# interessa-nos apenas os casos que encerraram ou concluíram o tratamento e não foram devidamente contabilizados anteriormente\n",
    "\n",
    "# criando as condições para a variável OBSERVACOES\n",
    "conditions_observacoes = [\n",
    "    df_b1['OBSERVACOES'].isin(['Paciente encerrou o caso no dia ', 'Paciente encerrou o caso',\n",
    "                               'Paciente encerrou caso', 'Encerrou o caso', 'Pct encerrou',\n",
    "                               'Caso encerrado', 'Encerrou 1h antes da consulta', \n",
    "                               'Encerrou 25min antes da consulta',\n",
    "                               'Encerrou 4h antes da consulta',\n",
    "                               'Paciente encerrou o caso com menosde 24hrs antes da consulta']),\n",
    "    df_b1['OBSERVACOES'].isin(['alta!', 'Última consulta. Enviei email. ', 'Última consulta'])\n",
    "]\n",
    "\n",
    "# valores correspondentes para cada condição\n",
    "values_observacoes = ['Caso encerrado', 'Concluiu o programa']\n",
    "\n",
    "# aplicando np.select para criar a nova variável OBSERVACOES_RC\n",
    "df_b1['OBSERVACOES_RC'] = np.select(conditions_observacoes, values_observacoes, default=np.nan)\n",
    "\n",
    "\n",
    "df_b1['OBSERVACOES_RC'].replace('nan', np.nan, inplace=True)\n"
   ]
  },
  {
   "cell_type": "code",
   "execution_count": 103,
   "metadata": {},
   "outputs": [
    {
     "data": {
      "text/plain": [
       "ENCERRAMENTO_CASO_RC2\n",
       "Caso encerrado            470\n",
       "Concluiu o programa         3\n",
       "Tentativa de reengajar      1\n",
       "Name: count, dtype: int64"
      ]
     },
     "execution_count": 103,
     "metadata": {},
     "output_type": "execute_result"
    }
   ],
   "source": [
    "# criando a variável ENCERRAMENTO_CASO_RC2\n",
    "\n",
    "# fazendo um merge entre as variáveis ENCERRAMENTO_CASO_RC e OBSERVACOES_RC\n",
    "df_b1['ENCERRAMENTO_CASO_RC2'] = df_b1['ENCERRAMENTO_CASO_RC']\n",
    "df_b1['ENCERRAMENTO_CASO_RC2'] = df_b1['ENCERRAMENTO_CASO_RC'].fillna(df_b1['OBSERVACOES_RC'])\n",
    "\n",
    "\n",
    "# trazendo os casos encerrados da coluna OBSERVACOES para a coluna ENCERRAMENTO_CASO_RC2\n",
    "df_b1['ENCERRAMENTO_CASO_RC2'] = np.where(\n",
    "    df_b1['OBSERVACOES_RC'] == 'Caso encerrado',  # Condição\n",
    "    'Caso encerrado',                            # Valor se a condição for verdadeira\n",
    "    df_b1['ENCERRAMENTO_CASO_RC']                # Caso contrário, mantém o valor original de ENCERRAMENTO_CASO_RC\n",
    ")\n",
    "\n",
    "\n",
    "# trazendo os casos encerrados da coluna OBSERVACOESCONSULTA_ESTAGIO para a coluna ENCERRAMENTO_CASO_RC2\n",
    "df_b1['ENCERRAMENTO_CASO_RC2'] = np.where(\n",
    "    df_b1['CONSULTA_ESTAGIO'] == 6,  # Condição\n",
    "    'Caso encerrado',                # Valor se a condição for verdadeira\n",
    "    df_b1['ENCERRAMENTO_CASO_RC']    # Caso contrário, mantém o valor original de ENCERRAMENTO_CASO_RC\n",
    ")\n",
    "\n",
    "\n",
    "# ajustando os valores da variável ENCERRAMENTO_CASO_RC2\n",
    "df_b1['ENCERRAMENTO_CASO_RC2'] = df_b1['ENCERRAMENTO_CASO_RC2'].replace({None: np.nan})\n",
    "\n",
    "\n",
    "# Verificando os valores únicos da nova variável\n",
    "df_b1['ENCERRAMENTO_CASO_RC2'].value_counts(dropna=True)"
   ]
  },
  {
   "cell_type": "code",
   "execution_count": 101,
   "metadata": {},
   "outputs": [
    {
     "data": {
      "text/plain": [
       "OBSERVACOES_RC\n",
       "Caso encerrado         19\n",
       "Concluiu o programa     3\n",
       "Name: count, dtype: int64"
      ]
     },
     "execution_count": 101,
     "metadata": {},
     "output_type": "execute_result"
    }
   ],
   "source": [
    "df_b1['OBSERVACOES_RC'].value_counts(dropna=True)"
   ]
  },
  {
   "cell_type": "code",
   "execution_count": 89,
   "metadata": {},
   "outputs": [
    {
     "name": "stdout",
     "output_type": "stream",
     "text": [
      "<class 'pandas.core.frame.DataFrame'>\n",
      "RangeIndex: 2071 entries, 0 to 2070\n",
      "Data columns (total 24 columns):\n",
      " #   Column                   Non-Null Count  Dtype         \n",
      "---  ------                   --------------  -----         \n",
      " 0   DATA                     2071 non-null   datetime64[ns]\n",
      " 1   MES                      2071 non-null   int32         \n",
      " 2   ANO                      2071 non-null   int32         \n",
      " 3   NUTRICIONISTA            2071 non-null   object        \n",
      " 4   ID_CASO                  1741 non-null   Int64         \n",
      " 5   PACIENTE_NOME            2071 non-null   object        \n",
      " 6   CONSULTA_ESTAGIO         2071 non-null   Int64         \n",
      " 7   OBJETIVO_PACIENTE        1299 non-null   object        \n",
      " 8   OBJETIVO_PACIENTE_RC     1299 non-null   object        \n",
      " 9   IDIOMA                   1451 non-null   object        \n",
      " 10  IDIOMA_RC                1451 non-null   object        \n",
      " 11  STATUS_ATENDIMENTO       2071 non-null   object        \n",
      " 12  STATUS_ATENDIMENTO_RC    2071 non-null   object        \n",
      " 13  ENGAJAMENTO_STATUS       263 non-null    object        \n",
      " 14  ENGAJAMENTO_STATUS_RC    259 non-null    object        \n",
      " 15  INTERVENCAO              2071 non-null   float64       \n",
      " 16  MENSAGEM_ENVIADA         240 non-null    object        \n",
      " 17  MENSAGEM_ENVIADA_RC      219 non-null    object        \n",
      " 18  ENGAJAMENTO_DESFECHO     233 non-null    object        \n",
      " 19  ENGAJAMENTO_DESFECHO_RC  228 non-null    object        \n",
      " 20  ENCERRAMENTO_CASO        476 non-null    object        \n",
      " 21  ENCERRAMENTO_CASO_RC     462 non-null    object        \n",
      " 22  OBSERVACOES              103 non-null    object        \n",
      " 23  OBSERVACOES_RC           22 non-null     object        \n",
      "dtypes: Int64(2), datetime64[ns](1), float64(1), int32(2), object(18)\n",
      "memory usage: 376.3+ KB\n"
     ]
    }
   ],
   "source": [
    "# Reordenando as colunas\n",
    "df_b1 = df_b1[['DATA', \n",
    "               'MES', \n",
    "               'ANO', \n",
    "               'NUTRICIONISTA', \n",
    "               'ID_CASO', \n",
    "               'PACIENTE_NOME', \n",
    "               'CONSULTA_ESTAGIO', \n",
    "               'OBJETIVO_PACIENTE', \n",
    "               'OBJETIVO_PACIENTE_RC', \n",
    "               'IDIOMA', \n",
    "               'IDIOMA_RC',\n",
    "               'STATUS_ATENDIMENTO',\n",
    "               'STATUS_ATENDIMENTO_RC',\t \n",
    "               'ENGAJAMENTO_STATUS',\n",
    "               'ENGAJAMENTO_STATUS_RC',\n",
    "               'INTERVENCAO', \n",
    "               'MENSAGEM_ENVIADA',\n",
    "               'MENSAGEM_ENVIADA_RC', \n",
    "               'ENGAJAMENTO_DESFECHO',\n",
    "               'ENGAJAMENTO_DESFECHO_RC', \n",
    "               'ENCERRAMENTO_CASO',\n",
    "               'ENCERRAMENTO_CASO_RC', \n",
    "               'OBSERVACOES',\n",
    "               'OBSERVACOES_RC']]\n",
    "\n",
    "df_b1.info()"
   ]
  },
  {
   "cell_type": "code",
   "execution_count": 94,
   "metadata": {},
   "outputs": [
    {
     "data": {
      "text/plain": [
       "DATA                                     2024-06-26 00:00:00\n",
       "MES                                                        6\n",
       "ANO                                                     2024\n",
       "NUTRICIONISTA                                          Clara\n",
       "ID_CASO                                                 <NA>\n",
       "PACIENTE_NOME              Mariana Campideli Teixeira  Silva\n",
       "CONSULTA_ESTAGIO                                           1\n",
       "OBJETIVO_PACIENTE                                        NaN\n",
       "OBJETIVO_PACIENTE_RC                                     NaN\n",
       "IDIOMA                                                   NaN\n",
       "IDIOMA_RC                                               None\n",
       "STATUS_ATENDIMENTO                                 Realizado\n",
       "STATUS_ATENDIMENTO_RC                              Realizado\n",
       "ENGAJAMENTO_STATUS                                       NaN\n",
       "ENGAJAMENTO_STATUS_RC                                   None\n",
       "INTERVENCAO                                              0.0\n",
       "MENSAGEM_ENVIADA                                         NaN\n",
       "MENSAGEM_ENVIADA_RC                                     None\n",
       "ENGAJAMENTO_DESFECHO                                     NaN\n",
       "ENGAJAMENTO_DESFECHO_RC                                  NaN\n",
       "ENCERRAMENTO_CASO                                        NaN\n",
       "ENCERRAMENTO_CASO_RC                                     NaN\n",
       "OBSERVACOES                                              NaN\n",
       "OBSERVACOES_RC                                           NaN\n",
       "Name: 657, dtype: object"
      ]
     },
     "execution_count": 94,
     "metadata": {},
     "output_type": "execute_result"
    }
   ],
   "source": [
    "# checando a posição \n",
    "df_b1.loc[657] "
   ]
  },
  {
   "cell_type": "code",
   "execution_count": 23,
   "metadata": {},
   "outputs": [
    {
     "data": {
      "text/html": [
       "<div>\n",
       "<style scoped>\n",
       "    .dataframe tbody tr th:only-of-type {\n",
       "        vertical-align: middle;\n",
       "    }\n",
       "\n",
       "    .dataframe tbody tr th {\n",
       "        vertical-align: top;\n",
       "    }\n",
       "\n",
       "    .dataframe thead th {\n",
       "        text-align: right;\n",
       "    }\n",
       "</style>\n",
       "<table border=\"1\" class=\"dataframe\">\n",
       "  <thead>\n",
       "    <tr style=\"text-align: right;\">\n",
       "      <th></th>\n",
       "      <th>DATA</th>\n",
       "      <th>MES</th>\n",
       "      <th>ANO</th>\n",
       "      <th>NUTRICIONISTA</th>\n",
       "      <th>ID_CASO</th>\n",
       "      <th>PACIENTE_NOME</th>\n",
       "      <th>CONSULTA_ESTAGIO</th>\n",
       "      <th>OBJETIVO_PACIENTE</th>\n",
       "      <th>OBJETIVO_PACIENTE_RC</th>\n",
       "      <th>IDIOMA</th>\n",
       "      <th>IDIOMA_RC</th>\n",
       "      <th>STATUS_ATENDIMENTO</th>\n",
       "      <th>STATUS_ATENDIMENTO_RC</th>\n",
       "      <th>ENGAJAMENTO_STATUS</th>\n",
       "      <th>ENGAJAMENTO_STATUS_RC</th>\n",
       "      <th>INTERVENCAO</th>\n",
       "      <th>MENSAGEM_ENVIADA</th>\n",
       "      <th>ENGAJAMENTO_DESFECHO</th>\n",
       "      <th>ENCERRAMENTO_CASO</th>\n",
       "      <th>OBSERVACOES</th>\n",
       "    </tr>\n",
       "  </thead>\n",
       "  <tbody>\n",
       "    <tr>\n",
       "      <th>2</th>\n",
       "      <td>2024-02-27</td>\n",
       "      <td>2</td>\n",
       "      <td>2024</td>\n",
       "      <td>Ana Luisa</td>\n",
       "      <td>407911</td>\n",
       "      <td>Mariana Campideli Teixeira Silva</td>\n",
       "      <td>1</td>\n",
       "      <td>QV</td>\n",
       "      <td>Qualidade de Vida</td>\n",
       "      <td>Português</td>\n",
       "      <td>Portugues</td>\n",
       "      <td>Realizado</td>\n",
       "      <td>Realizado</td>\n",
       "      <td>NaN</td>\n",
       "      <td>NaN</td>\n",
       "      <td>0.0</td>\n",
       "      <td>NaN</td>\n",
       "      <td>NaN</td>\n",
       "      <td>encerrado</td>\n",
       "      <td>NaN</td>\n",
       "    </tr>\n",
       "    <tr>\n",
       "      <th>14</th>\n",
       "      <td>2024-03-14</td>\n",
       "      <td>3</td>\n",
       "      <td>2024</td>\n",
       "      <td>Ana Luisa</td>\n",
       "      <td>407911</td>\n",
       "      <td>Mariana Campideli Teixeira Silva</td>\n",
       "      <td>2</td>\n",
       "      <td>QV</td>\n",
       "      <td>Qualidade de Vida</td>\n",
       "      <td>Português</td>\n",
       "      <td>Portugues</td>\n",
       "      <td>Realizado</td>\n",
       "      <td>Realizado</td>\n",
       "      <td>NaN</td>\n",
       "      <td>NaN</td>\n",
       "      <td>0.0</td>\n",
       "      <td>NaN</td>\n",
       "      <td>NaN</td>\n",
       "      <td>encerrado</td>\n",
       "      <td>NaN</td>\n",
       "    </tr>\n",
       "    <tr>\n",
       "      <th>19</th>\n",
       "      <td>2024-03-25</td>\n",
       "      <td>3</td>\n",
       "      <td>2024</td>\n",
       "      <td>Ana Luisa</td>\n",
       "      <td>407911</td>\n",
       "      <td>Mariana Campideli Teixeira Silva</td>\n",
       "      <td>3</td>\n",
       "      <td>QV</td>\n",
       "      <td>Qualidade de Vida</td>\n",
       "      <td>Português</td>\n",
       "      <td>Portugues</td>\n",
       "      <td>Falta</td>\n",
       "      <td>Falta</td>\n",
       "      <td>NaN</td>\n",
       "      <td>NaN</td>\n",
       "      <td>0.0</td>\n",
       "      <td>NaN</td>\n",
       "      <td>NaN</td>\n",
       "      <td>encerrado</td>\n",
       "      <td>NaN</td>\n",
       "    </tr>\n",
       "    <tr>\n",
       "      <th>54</th>\n",
       "      <td>2024-04-22</td>\n",
       "      <td>4</td>\n",
       "      <td>2024</td>\n",
       "      <td>Ana Luisa</td>\n",
       "      <td>407911</td>\n",
       "      <td>Mariana Campideli Teixeira Silva</td>\n",
       "      <td>4</td>\n",
       "      <td>QV</td>\n",
       "      <td>Qualidade de Vida</td>\n",
       "      <td>Português</td>\n",
       "      <td>Portugues</td>\n",
       "      <td>Falta</td>\n",
       "      <td>Falta</td>\n",
       "      <td>NaN</td>\n",
       "      <td>NaN</td>\n",
       "      <td>0.0</td>\n",
       "      <td>NaN</td>\n",
       "      <td>NaN</td>\n",
       "      <td>encerrado</td>\n",
       "      <td>NaN</td>\n",
       "    </tr>\n",
       "    <tr>\n",
       "      <th>68</th>\n",
       "      <td>2024-05-06</td>\n",
       "      <td>5</td>\n",
       "      <td>2024</td>\n",
       "      <td>Ana Luisa</td>\n",
       "      <td>407911</td>\n",
       "      <td>Mariana Campideli Teixeira Silva</td>\n",
       "      <td>5</td>\n",
       "      <td>QV</td>\n",
       "      <td>Qualidade de Vida</td>\n",
       "      <td>Português</td>\n",
       "      <td>Portugues</td>\n",
       "      <td>Falta</td>\n",
       "      <td>Falta</td>\n",
       "      <td>NaN</td>\n",
       "      <td>NaN</td>\n",
       "      <td>0.0</td>\n",
       "      <td>NaN</td>\n",
       "      <td>NaN</td>\n",
       "      <td>encerrado</td>\n",
       "      <td>NaN</td>\n",
       "    </tr>\n",
       "    <tr>\n",
       "      <th>657</th>\n",
       "      <td>2024-06-26</td>\n",
       "      <td>6</td>\n",
       "      <td>2024</td>\n",
       "      <td>Clara</td>\n",
       "      <td>&lt;NA&gt;</td>\n",
       "      <td>Mariana Campideli Teixeira  Silva</td>\n",
       "      <td>1</td>\n",
       "      <td>NaN</td>\n",
       "      <td>NaN</td>\n",
       "      <td>NaN</td>\n",
       "      <td>NaN</td>\n",
       "      <td>Realizado</td>\n",
       "      <td>Realizado</td>\n",
       "      <td>NaN</td>\n",
       "      <td>NaN</td>\n",
       "      <td>0.0</td>\n",
       "      <td>NaN</td>\n",
       "      <td>NaN</td>\n",
       "      <td>NaN</td>\n",
       "      <td>NaN</td>\n",
       "    </tr>\n",
       "    <tr>\n",
       "      <th>675</th>\n",
       "      <td>2024-07-08</td>\n",
       "      <td>7</td>\n",
       "      <td>2024</td>\n",
       "      <td>Clara</td>\n",
       "      <td>&lt;NA&gt;</td>\n",
       "      <td>Mariana Campideli Teixeira  Silva</td>\n",
       "      <td>2</td>\n",
       "      <td>NaN</td>\n",
       "      <td>NaN</td>\n",
       "      <td>NaN</td>\n",
       "      <td>NaN</td>\n",
       "      <td>Falta</td>\n",
       "      <td>Falta</td>\n",
       "      <td>NaN</td>\n",
       "      <td>NaN</td>\n",
       "      <td>0.0</td>\n",
       "      <td>NaN</td>\n",
       "      <td>NaN</td>\n",
       "      <td>NaN</td>\n",
       "      <td>NaN</td>\n",
       "    </tr>\n",
       "    <tr>\n",
       "      <th>694</th>\n",
       "      <td>2024-07-18</td>\n",
       "      <td>7</td>\n",
       "      <td>2024</td>\n",
       "      <td>Clara</td>\n",
       "      <td>&lt;NA&gt;</td>\n",
       "      <td>Mariana Campideli Teixeira  Silva</td>\n",
       "      <td>2</td>\n",
       "      <td>NaN</td>\n",
       "      <td>NaN</td>\n",
       "      <td>NaN</td>\n",
       "      <td>NaN</td>\n",
       "      <td>Realizado</td>\n",
       "      <td>Realizado</td>\n",
       "      <td>NaN</td>\n",
       "      <td>NaN</td>\n",
       "      <td>0.0</td>\n",
       "      <td>NaN</td>\n",
       "      <td>NaN</td>\n",
       "      <td>NaN</td>\n",
       "      <td>NaN</td>\n",
       "    </tr>\n",
       "    <tr>\n",
       "      <th>759</th>\n",
       "      <td>2024-08-15</td>\n",
       "      <td>8</td>\n",
       "      <td>2024</td>\n",
       "      <td>Clara</td>\n",
       "      <td>&lt;NA&gt;</td>\n",
       "      <td>Mariana Campideli Teixeira  Silva</td>\n",
       "      <td>3</td>\n",
       "      <td>NaN</td>\n",
       "      <td>NaN</td>\n",
       "      <td>NaN</td>\n",
       "      <td>NaN</td>\n",
       "      <td>Realizado</td>\n",
       "      <td>Realizado</td>\n",
       "      <td>NaN</td>\n",
       "      <td>NaN</td>\n",
       "      <td>0.0</td>\n",
       "      <td>NaN</td>\n",
       "      <td>NaN</td>\n",
       "      <td>NaN</td>\n",
       "      <td>NaN</td>\n",
       "    </tr>\n",
       "    <tr>\n",
       "      <th>800</th>\n",
       "      <td>2024-09-05</td>\n",
       "      <td>9</td>\n",
       "      <td>2024</td>\n",
       "      <td>Clara</td>\n",
       "      <td>437631</td>\n",
       "      <td>Mariana Campideli Teixeira  Silva</td>\n",
       "      <td>4</td>\n",
       "      <td>NaN</td>\n",
       "      <td>NaN</td>\n",
       "      <td>NaN</td>\n",
       "      <td>NaN</td>\n",
       "      <td>Falta</td>\n",
       "      <td>Falta</td>\n",
       "      <td>NaN</td>\n",
       "      <td>NaN</td>\n",
       "      <td>0.0</td>\n",
       "      <td>NaN</td>\n",
       "      <td>NaN</td>\n",
       "      <td>NaN</td>\n",
       "      <td>NaN</td>\n",
       "    </tr>\n",
       "  </tbody>\n",
       "</table>\n",
       "</div>"
      ],
      "text/plain": [
       "          DATA  MES   ANO NUTRICIONISTA  ID_CASO  \\\n",
       "2   2024-02-27    2  2024     Ana Luisa   407911   \n",
       "14  2024-03-14    3  2024     Ana Luisa   407911   \n",
       "19  2024-03-25    3  2024     Ana Luisa   407911   \n",
       "54  2024-04-22    4  2024     Ana Luisa   407911   \n",
       "68  2024-05-06    5  2024     Ana Luisa   407911   \n",
       "657 2024-06-26    6  2024         Clara     <NA>   \n",
       "675 2024-07-08    7  2024         Clara     <NA>   \n",
       "694 2024-07-18    7  2024         Clara     <NA>   \n",
       "759 2024-08-15    8  2024         Clara     <NA>   \n",
       "800 2024-09-05    9  2024         Clara   437631   \n",
       "\n",
       "                         PACIENTE_NOME  CONSULTA_ESTAGIO OBJETIVO_PACIENTE  \\\n",
       "2    Mariana Campideli Teixeira Silva                  1                QV   \n",
       "14   Mariana Campideli Teixeira Silva                  2                QV   \n",
       "19   Mariana Campideli Teixeira Silva                  3                QV   \n",
       "54    Mariana Campideli Teixeira Silva                 4                QV   \n",
       "68    Mariana Campideli Teixeira Silva                 5                QV   \n",
       "657  Mariana Campideli Teixeira  Silva                 1               NaN   \n",
       "675  Mariana Campideli Teixeira  Silva                 2               NaN   \n",
       "694  Mariana Campideli Teixeira  Silva                 2               NaN   \n",
       "759  Mariana Campideli Teixeira  Silva                 3               NaN   \n",
       "800  Mariana Campideli Teixeira  Silva                 4               NaN   \n",
       "\n",
       "    OBJETIVO_PACIENTE_RC     IDIOMA  IDIOMA_RC STATUS_ATENDIMENTO  \\\n",
       "2      Qualidade de Vida  Português  Portugues          Realizado   \n",
       "14     Qualidade de Vida  Português  Portugues          Realizado   \n",
       "19     Qualidade de Vida  Português  Portugues              Falta   \n",
       "54     Qualidade de Vida  Português  Portugues              Falta   \n",
       "68     Qualidade de Vida  Português  Portugues              Falta   \n",
       "657                  NaN        NaN        NaN          Realizado   \n",
       "675                  NaN        NaN        NaN              Falta   \n",
       "694                  NaN        NaN        NaN          Realizado   \n",
       "759                  NaN        NaN        NaN          Realizado   \n",
       "800                  NaN        NaN        NaN              Falta   \n",
       "\n",
       "    STATUS_ATENDIMENTO_RC ENGAJAMENTO_STATUS ENGAJAMENTO_STATUS_RC  \\\n",
       "2               Realizado                NaN                   NaN   \n",
       "14              Realizado                NaN                   NaN   \n",
       "19                  Falta                NaN                   NaN   \n",
       "54                  Falta                NaN                   NaN   \n",
       "68                  Falta                NaN                   NaN   \n",
       "657             Realizado                NaN                   NaN   \n",
       "675                 Falta                NaN                   NaN   \n",
       "694             Realizado                NaN                   NaN   \n",
       "759             Realizado                NaN                   NaN   \n",
       "800                 Falta                NaN                   NaN   \n",
       "\n",
       "     INTERVENCAO MENSAGEM_ENVIADA ENGAJAMENTO_DESFECHO ENCERRAMENTO_CASO  \\\n",
       "2            0.0              NaN                  NaN        encerrado    \n",
       "14           0.0              NaN                  NaN        encerrado    \n",
       "19           0.0              NaN                  NaN        encerrado    \n",
       "54           0.0              NaN                  NaN        encerrado    \n",
       "68           0.0              NaN                  NaN        encerrado    \n",
       "657          0.0              NaN                  NaN               NaN   \n",
       "675          0.0              NaN                  NaN               NaN   \n",
       "694          0.0              NaN                  NaN               NaN   \n",
       "759          0.0              NaN                  NaN               NaN   \n",
       "800          0.0              NaN                  NaN               NaN   \n",
       "\n",
       "    OBSERVACOES  \n",
       "2           NaN  \n",
       "14          NaN  \n",
       "19          NaN  \n",
       "54          NaN  \n",
       "68          NaN  \n",
       "657         NaN  \n",
       "675         NaN  \n",
       "694         NaN  \n",
       "759         NaN  \n",
       "800         NaN  "
      ]
     },
     "execution_count": 23,
     "metadata": {},
     "output_type": "execute_result"
    }
   ],
   "source": [
    "# filtrar todas as linhas com PACIENTE_NOME \"Mariana Campideli Teixeira  Silva\" ou \"Mariana Campideli Teixeira Silva\", mostrar a linha inteira\n",
    "filtro1 = df_b1[df_b1['PACIENTE_NOME'].str.contains('Mariana Campideli Teixeira  Silva|Mariana Campideli Teixeira Silva', na=False)]\n",
    "\n",
    "#filtro1 = df_b1[df_b1['PACIENTE_NOME'] == 'Mariana Campideli Teixeira  Silva','Mariana Campideli Teixeira Silva' ]\n",
    "filtro1"
   ]
  },
  {
   "cell_type": "code",
   "execution_count": null,
   "metadata": {},
   "outputs": [],
   "source": []
  },
  {
   "cell_type": "markdown",
   "metadata": {},
   "source": [
    "## Para depois: tratar a variável NOME"
   ]
  },
  {
   "cell_type": "markdown",
   "metadata": {},
   "source": [
    "import hashlib\n",
    "\n",
    "# Função para normalizar o nome do paciente\n",
    "def normalize_name(name):\n",
    "    # Remover espaços extras, acentuação e converter para minúsculas\n",
    "    name = name.strip().lower()\n",
    "    # Você pode adicionar mais regras de normalização aqui se necessário\n",
    "    return name\n",
    "\n",
    "# Função para criar um ID único baseado no nome\n",
    "def create_unique_id(name):\n",
    "    normalized_name = normalize_name(name)\n",
    "    # Usar hashlib para gerar um hash MD5 do nome normalizado\n",
    "    unique_id = hashlib.md5(normalized_name.encode()).hexdigest()\n",
    "    return unique_id\n",
    "\n",
    "# Exemplo de uso com uma lista de nomes de pacientes\n",
    "patients = [\n",
    "    \"João Silva\",\n",
    "    \"joão silva\",\n",
    "    \"Jõao Silvá\",\n",
    "    \"Joana da Silva\",\n",
    "    \"joana dasilva\"\n",
    "]\n",
    "\n",
    "# Criar um dicionário para armazenar os IDs únicos\n",
    "patient_ids = {}\n",
    "\n",
    "for patient in patients:\n",
    "    unique_id = create_unique_id(patient)\n",
    "    if unique_id not in patient_ids.values():\n",
    "        # Se o ID único ainda não existe, adicione-o ao dicionário\n",
    "        patient_ids[unique_id] = patient\n",
    "    else:\n",
    "        # Se já existir um paciente com esse nome (mesmo erro de grafia), você pode decidir como lidar\n",
    "        print(f\"Nome '{patient}' já tem um ID único: {unique_id}\")\n",
    "\n",
    "# Exibir os IDs únicos criados para cada paciente\n",
    "for unique_id, name in patient_ids.items():\n",
    "    print(f\"ID Paciente: {unique_id}, Nome: {name}\")\n"
   ]
  },
  {
   "cell_type": "code",
   "execution_count": 21,
   "metadata": {},
   "outputs": [
    {
     "name": "stdout",
     "output_type": "stream",
     "text": [
      "Grupo 1:\n",
      "  - João Silva\n",
      "  - joão silva\n",
      "Grupo 3:\n",
      "  - Jõao Silvá\n",
      "Grupo 4:\n",
      "  - Joana da Silva\n",
      "  - joana dasilva\n"
     ]
    }
   ],
   "source": [
    "import difflib\n",
    "\n",
    "# Função para normalizar o nome do paciente\n",
    "def normalize_name(name):\n",
    "    # Remover espaços extras, acentuação e converter para minúsculas\n",
    "    name = name.strip().lower()\n",
    "    return name\n",
    "\n",
    "# Função para calcular a porcentagem de similaridade entre dois nomes\n",
    "def similarity(name1, name2):\n",
    "    normalized_name1 = normalize_name(name1)\n",
    "    normalized_name2 = normalize_name(name2)\n",
    "    return difflib.SequenceMatcher(None, normalized_name1, normalized_name2).ratio()\n",
    "\n",
    "# Exemplo de uso com uma lista de nomes de pacientes\n",
    "patients = [\n",
    "    \"João Silva\",\n",
    "    \"joão silva\",\n",
    "    \"Jõao Silvá\",\n",
    "    \"Joana da Silva\",\n",
    "    \"joana dasilva\"\n",
    "]\n",
    "\n",
    "# Define o nível mínimo de similaridade (0 a 1)\n",
    "min_similarity_threshold = 0.8\n",
    "\n",
    "# Criar um dicionário para armazenar grupos de nomes semelhantes\n",
    "similar_groups = {}\n",
    "\n",
    "for i, patient in enumerate(patients):\n",
    "    found_group = False\n",
    "    for group_id, group in similar_groups.items():\n",
    "        if similarity(patient, group[0]) >= min_similarity_threshold:\n",
    "            group.append(patient)\n",
    "            found_group = True\n",
    "            break\n",
    "    \n",
    "    # Se não encontrou um grupo adequado, cria um novo grupo\n",
    "    if not found_group:\n",
    "        similar_groups[i] = [patient]\n",
    "\n",
    "# Exibir os grupos de nomes semelhantes\n",
    "for group_id, group in similar_groups.items():\n",
    "    print(f\"Grupo {group_id+1}:\")\n",
    "    for name in group:\n",
    "        print(f\"  - {name}\")\n"
   ]
  }
 ],
 "metadata": {
  "kernelspec": {
   "display_name": "base",
   "language": "python",
   "name": "python3"
  },
  "language_info": {
   "codemirror_mode": {
    "name": "ipython",
    "version": 3
   },
   "file_extension": ".py",
   "mimetype": "text/x-python",
   "name": "python",
   "nbconvert_exporter": "python",
   "pygments_lexer": "ipython3",
   "version": "3.12.7"
  }
 },
 "nbformat": 4,
 "nbformat_minor": 2
}
